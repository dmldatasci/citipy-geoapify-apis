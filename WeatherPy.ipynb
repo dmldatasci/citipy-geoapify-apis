{
 "cells": [
  {
   "attachments": {},
   "cell_type": "markdown",
   "metadata": {},
   "source": [
    "# WeatherPy\n",
    "\n",
    "---"
   ]
  },
  {
   "cell_type": "code",
   "execution_count": 1,
   "metadata": {},
   "outputs": [],
   "source": [
    "# load dependencies\n",
    "import matplotlib.pyplot as plt\n",
    "import pandas as pd\n",
    "import numpy as np\n",
    "import requests\n",
    "import time\n",
    "from scipy.stats import linregress\n",
    "\n",
    "# citipy will help determine cities based on latitude and longitude data\n",
    "from citipy import citipy\n",
    "\n",
    "# import OpenWeatherMap API key\n",
    "from api_keys import weather_api_key"
   ]
  },
  {
   "attachments": {},
   "cell_type": "markdown",
   "metadata": {},
   "source": [
    "### Generate the Cities List by Using the `citipy` Library"
   ]
  },
  {
   "cell_type": "code",
   "execution_count": 2,
   "metadata": {},
   "outputs": [
    {
     "data": {
      "text/plain": [
       "<zip at 0x157ca5d00>"
      ]
     },
     "execution_count": 2,
     "metadata": {},
     "output_type": "execute_result"
    }
   ],
   "source": [
    "# instantiate an empty list for holding lat/lng combinations, and one for holding nearest city names\n",
    "lat_lngs = []\n",
    "cities = []\n",
    "\n",
    "# set a range of latitudes and longitudes for random generation\n",
    "lat_range = (-90, 90)\n",
    "lng_range = (-180, 180)\n",
    "\n",
    "# create a set of 1500 random lat/lng combinations\n",
    "lats = np.random.uniform(lat_range[0], lat_range[1], size=1500)\n",
    "lngs = np.random.uniform(lng_range[0], lng_range[1], size=1500)\n",
    "lat_lngs = zip(lats, lngs)\n",
    "lat_lngs"
   ]
  },
  {
   "cell_type": "code",
   "execution_count": 3,
   "metadata": {},
   "outputs": [
    {
     "name": "stdout",
     "output_type": "stream",
     "text": [
      "Number of cities in the list: 609\n"
     ]
    }
   ],
   "source": [
    "# identify the nearest city for each lat/lng combination\n",
    "for lat_lng in lat_lngs:\n",
    "    city = citipy.nearest_city(lat_lng[0], lat_lng[1]).city_name\n",
    "    \n",
    "    # only add new cities to our list\n",
    "    if city not in cities:\n",
    "        cities.append(city)\n",
    "\n",
    "# print the city count\n",
    "print(f\"Number of cities in the list: {len(cities)}\")"
   ]
  },
  {
   "attachments": {},
   "cell_type": "markdown",
   "metadata": {},
   "source": [
    "### Showcase the Relationship Between Weather Attributes and Latitude"
   ]
  },
  {
   "cell_type": "code",
   "execution_count": 4,
   "metadata": {},
   "outputs": [],
   "source": [
    "# retrieve weather attributes for relevant cities\n",
    "api_url = 'https://api.openweathermap.org/data/2.5/weather?lat={lat}&lon={lng}&appid={API_key}'\n",
    "city_weather_data = {}\n",
    "\n",
    "for i, city in enumerate(cities):\n",
    "\n",
    "    if i % 100 == 0 and i > 1:\n",
    "        print(f'Working on city #{i}.\\n-----\\n')\n",
    "\n",
    "    try:\n",
    "        response = requests.get(api_url.format(lat=lats[i], lng=lngs[i], API_key=weather_api_key))\n",
    "        data = response.json()\n",
    "        \n",
    "        city_weather_data[city] = {'lat' : data['coord']['lat'],\n",
    "                                   'temp' : [data['main']['temp_min'], data['main']['temp'], data['main']['temp_max']],\n",
    "                                   'hum' : data['main']['humidity'],\n",
    "                                   'cloud' : data['clouds']['all'],\n",
    "                                   'wind' : data['wind']['speed']}\n",
    "        \n",
    "    except:\n",
    "        print(f'{city.title()} not found. Moving on.\\n-----\\n')\n",
    "\n",
    "print('\\nData retrieval complete.\\n-----\\n')\n",
    "    \n"
   ]
  },
  {
   "attachments": {},
   "cell_type": "markdown",
   "metadata": {},
   "source": [
    "#### Latitude vs. Temperature"
   ]
  },
  {
   "attachments": {},
   "cell_type": "markdown",
   "metadata": {},
   "source": [
    "#### Latitude vs. Humidity"
   ]
  },
  {
   "attachments": {},
   "cell_type": "markdown",
   "metadata": {},
   "source": [
    "#### Latitude vs. Cloudiness"
   ]
  },
  {
   "attachments": {},
   "cell_type": "markdown",
   "metadata": {},
   "source": [
    "#### Latitude vs. Wind Speed"
   ]
  },
  {
   "attachments": {},
   "cell_type": "markdown",
   "metadata": {},
   "source": [
    "### Apply Linear Regression to Each Relationship"
   ]
  }
 ],
 "metadata": {
  "kernelspec": {
   "display_name": ".venv",
   "language": "python",
   "name": "python3"
  },
  "language_info": {
   "codemirror_mode": {
    "name": "ipython",
    "version": 3
   },
   "file_extension": ".py",
   "mimetype": "text/x-python",
   "name": "python",
   "nbconvert_exporter": "python",
   "pygments_lexer": "ipython3",
   "version": "3.9.6"
  },
  "orig_nbformat": 4
 },
 "nbformat": 4,
 "nbformat_minor": 2
}
