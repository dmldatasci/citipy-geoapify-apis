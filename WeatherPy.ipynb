{
 "cells": [
  {
   "attachments": {},
   "cell_type": "markdown",
   "metadata": {},
   "source": [
    "# WeatherPy\n",
    "\n",
    "---"
   ]
  },
  {
   "cell_type": "code",
   "execution_count": 4,
   "metadata": {},
   "outputs": [],
   "source": [
    "# load dependencies\n",
    "import matplotlib.pyplot as plt\n",
    "import pandas as pd\n",
    "import numpy as np\n",
    "import requests\n",
    "import time\n",
    "from scipy.stats import linregress\n",
    "\n",
    "# citipy will help determine cities based on latitude and longitude data\n",
    "from citipy import citipy\n",
    "\n",
    "# import OpenWeatherMap API key\n",
    "from api_keys import weather_api_key"
   ]
  },
  {
   "attachments": {},
   "cell_type": "markdown",
   "metadata": {},
   "source": [
    "### Generate the Cities List by Using the `citipy` Library"
   ]
  },
  {
   "cell_type": "code",
   "execution_count": 6,
   "metadata": {},
   "outputs": [
    {
     "data": {
      "text/plain": [
       "<zip at 0x1370bd040>"
      ]
     },
     "execution_count": 6,
     "metadata": {},
     "output_type": "execute_result"
    }
   ],
   "source": [
    "# instantiate an empty list for holding lat/lng combinations, and one for holding nearest city names\n",
    "lat_lngs = []\n",
    "cities = []\n",
    "\n",
    "# set a range of latitudes and longitudes for random generation\n",
    "lat_range = (-90, 90)\n",
    "lng_range = (-180, 180)\n",
    "\n",
    "# create a set of 1500 random lat/lng combinations\n",
    "lats = np.random.uniform(lat_range[0], lat_range[1], size=1500)\n",
    "lngs = np.random.uniform(lng_range[0], lng_range[1], size=1500)\n",
    "lat_lngs = zip(lats, lngs)\n",
    "lat_lngs"
   ]
  },
  {
   "cell_type": "code",
   "execution_count": 7,
   "metadata": {},
   "outputs": [
    {
     "name": "stdout",
     "output_type": "stream",
     "text": [
      "Number of cities in the list: 586\n"
     ]
    }
   ],
   "source": [
    "# identify the nearest city for each lat/lng combination\n",
    "for lat_lng in lat_lngs:\n",
    "    city = citipy.nearest_city(lat_lng[0], lat_lng[1]).city_name\n",
    "    \n",
    "    # only add new cities to our list\n",
    "    if city not in cities:\n",
    "        cities.append(city)\n",
    "\n",
    "# print the city count\n",
    "print(f\"Number of cities in the list: {len(cities)}\")"
   ]
  },
  {
   "attachments": {},
   "cell_type": "markdown",
   "metadata": {},
   "source": [
    "### Showcase the Relationship Between Weather Attributes and Latitude"
   ]
  },
  {
   "cell_type": "code",
   "execution_count": 25,
   "metadata": {},
   "outputs": [
    {
     "name": "stdout",
     "output_type": "stream",
     "text": [
      "Lat/Long:  {'lon': -158.8196, 'lat': -87.2901}\n",
      "Weather:  [{'id': 801, 'main': 'Clouds', 'description': 'few clouds', 'icon': '02n'}]\n",
      "Base:  stations\n",
      "Main:  {'temp': 228.03, 'feels_like': 221.03, 'temp_min': 228.03, 'temp_max': 228.03, 'pressure': 1020, 'humidity': 90, 'sea_level': 1020, 'grnd_level': 686}\n",
      "Vis:  10000\n",
      "Wind:  {'speed': 10.33, 'deg': 140, 'gust': 16.79}\n",
      "Clouds:  {'all': 14}\n",
      "DT:  1681283515\n",
      "Sys:  {'sunrise': 0, 'sunset': 0}\n",
      "Timezone:  43200\n",
      "ID:  0\n",
      "Name:  \n",
      "Cod:  200\n",
      "Lat/Long:  {'lon': -54.4889, 'lat': 40.0284}\n",
      "Weather:  [{'id': 800, 'main': 'Clear', 'description': 'clear sky', 'icon': '01n'}]\n",
      "Base:  stations\n",
      "Main:  {'temp': 286.8, 'feels_like': 285.79, 'temp_min': 286.8, 'temp_max': 286.8, 'pressure': 1010, 'humidity': 60, 'sea_level': 1010, 'grnd_level': 1010}\n",
      "Vis:  10000\n",
      "Wind:  {'speed': 12.86, 'deg': 276, 'gust': 14.25}\n",
      "Clouds:  {'all': 5}\n",
      "DT:  1681283515\n",
      "Sys:  {'sunrise': 1681290292, 'sunset': 1681337537}\n",
      "Timezone:  -14400\n",
      "ID:  0\n",
      "Name:  \n",
      "Cod:  200\n",
      "Lat/Long:  {'lon': -152.3825, 'lat': 42.5191}\n",
      "Weather:  [{'id': 804, 'main': 'Clouds', 'description': 'overcast clouds', 'icon': '04n'}]\n",
      "Base:  stations\n",
      "Main:  {'temp': 283.54, 'feels_like': 283.04, 'temp_min': 283.54, 'temp_max': 283.54, 'pressure': 1038, 'humidity': 92, 'sea_level': 1038, 'grnd_level': 1038}\n",
      "Vis:  10000\n",
      "Wind:  {'speed': 6.55, 'deg': 270, 'gust': 9.95}\n",
      "Clouds:  {'all': 100}\n",
      "DT:  1681284056\n",
      "Sys:  {'sunrise': 1681227286, 'sunset': 1681274755}\n",
      "Timezone:  -36000\n",
      "ID:  0\n",
      "Name:  \n",
      "Cod:  200\n",
      "Lat/Long:  {'lon': -170.6999, 'lat': -69.3511}\n",
      "Weather:  [{'id': 804, 'main': 'Clouds', 'description': 'overcast clouds', 'icon': '04n'}]\n",
      "Base:  stations\n",
      "Main:  {'temp': 264.42, 'feels_like': 257.42, 'temp_min': 264.42, 'temp_max': 264.42, 'pressure': 989, 'humidity': 85, 'sea_level': 989, 'grnd_level': 989}\n",
      "Vis:  8050\n",
      "Wind:  {'speed': 7.46, 'deg': 165, 'gust': 7.27}\n",
      "Clouds:  {'all': 100}\n",
      "DT:  1681283903\n",
      "Sys:  {'sunrise': 1681238722, 'sunset': 1681272110}\n",
      "Timezone:  -39600\n",
      "ID:  0\n",
      "Name:  \n",
      "Cod:  200\n",
      "Lat/Long:  {'lon': -100.0349, 'lat': -20.6949}\n",
      "Weather:  [{'id': 800, 'main': 'Clear', 'description': 'clear sky', 'icon': '01n'}]\n",
      "Base:  stations\n",
      "Main:  {'temp': 297.16, 'feels_like': 297.57, 'temp_min': 297.16, 'temp_max': 297.16, 'pressure': 1018, 'humidity': 75, 'sea_level': 1018, 'grnd_level': 1018}\n",
      "Vis:  10000\n",
      "Wind:  {'speed': 6.71, 'deg': 92, 'gust': 7.65}\n",
      "Clouds:  {'all': 1}\n",
      "DT:  1681283914\n",
      "Sys:  {'sunrise': 1681303821, 'sunset': 1681345867}\n",
      "Timezone:  -25200\n",
      "ID:  0\n",
      "Name:  \n",
      "Cod:  200\n",
      "Lat/Long:  {'lon': -72.1703, 'lat': 15.5714}\n",
      "Weather:  [{'id': 800, 'main': 'Clear', 'description': 'clear sky', 'icon': '01n'}]\n",
      "Base:  stations\n",
      "Main:  {'temp': 299.12, 'feels_like': 299.12, 'temp_min': 299.12, 'temp_max': 299.12, 'pressure': 1012, 'humidity': 86, 'sea_level': 1012, 'grnd_level': 1012}\n",
      "Vis:  10000\n",
      "Wind:  {'speed': 7.36, 'deg': 79, 'gust': 8.84}\n",
      "Clouds:  {'all': 1}\n",
      "DT:  1681283915\n",
      "Sys:  {'sunrise': 1681295765, 'sunset': 1681340550}\n",
      "Timezone:  -18000\n",
      "ID:  0\n",
      "Name:  \n",
      "Cod:  200\n",
      "Lat/Long:  {'lon': -178.4251, 'lat': -89.5334}\n",
      "Weather:  [{'id': 804, 'main': 'Clouds', 'description': 'overcast clouds', 'icon': '04n'}]\n",
      "Base:  stations\n",
      "Main:  {'temp': 218.56, 'feels_like': 211.56, 'temp_min': 218.56, 'temp_max': 218.56, 'pressure': 1045, 'humidity': 100, 'sea_level': 1045, 'grnd_level': 678}\n",
      "Vis:  9119\n",
      "Wind:  {'speed': 3.79, 'deg': 196, 'gust': 3.51}\n",
      "Clouds:  {'all': 100}\n",
      "DT:  1681284057\n",
      "Sys:  {'sunrise': 0, 'sunset': 0}\n",
      "Timezone:  43200\n",
      "ID:  0\n",
      "Name:  \n",
      "Cod:  200\n",
      "Lat/Long:  {'lon': 69.5347, 'lat': -58.6613}\n",
      "Weather:  [{'id': 804, 'main': 'Clouds', 'description': 'overcast clouds', 'icon': '04d'}]\n",
      "Base:  stations\n",
      "Main:  {'temp': 273.69, 'feels_like': 267.13, 'temp_min': 273.69, 'temp_max': 273.69, 'pressure': 1013, 'humidity': 79, 'sea_level': 1013, 'grnd_level': 1013}\n",
      "Vis:  10000\n",
      "Wind:  {'speed': 9.11, 'deg': 18, 'gust': 10.57}\n",
      "Clouds:  {'all': 100}\n",
      "DT:  1681284058\n",
      "Sys:  {'sunrise': 1681265566, 'sunset': 1681302743}\n",
      "Timezone:  18000\n",
      "ID:  0\n",
      "Name:  \n",
      "Cod:  200\n",
      "Lat/Long:  {'lon': -115.2278, 'lat': -83.8433}\n",
      "Weather:  [{'id': 803, 'main': 'Clouds', 'description': 'broken clouds', 'icon': '04n'}]\n",
      "Base:  stations\n",
      "Main:  {'temp': 246.84, 'feels_like': 239.84, 'temp_min': 246.84, 'temp_max': 246.84, 'pressure': 992, 'humidity': 74, 'sea_level': 992, 'grnd_level': 827}\n",
      "Vis:  10000\n",
      "Wind:  {'speed': 15.37, 'deg': 88, 'gust': 21.81}\n",
      "Clouds:  {'all': 74}\n",
      "DT:  1681284058\n",
      "Sys:  {'sunrise': 0, 'sunset': 0}\n",
      "Timezone:  -28800\n",
      "ID:  0\n",
      "Name:  \n",
      "Cod:  200\n",
      "Lat/Long:  {'lon': -117.9843, 'lat': 31.0689}\n",
      "Weather:  [{'id': 804, 'main': 'Clouds', 'description': 'overcast clouds', 'icon': '04n'}]\n",
      "Base:  stations\n",
      "Main:  {'temp': 287.12, 'feels_like': 286.79, 'temp_min': 287.12, 'temp_max': 287.12, 'pressure': 1015, 'humidity': 85, 'sea_level': 1015, 'grnd_level': 1015}\n",
      "Vis:  10000\n",
      "Wind:  {'speed': 7.82, 'deg': 317, 'gust': 8.54}\n",
      "Clouds:  {'all': 100}\n",
      "DT:  1681284058\n",
      "Sys:  {'sunrise': 1681219717, 'sunset': 1681265817}\n",
      "Timezone:  -28800\n",
      "ID:  0\n",
      "Name:  \n",
      "Cod:  200\n",
      "Lat/Long:  {'lon': 140.9695, 'lat': 8.0245}\n",
      "Weather:  [{'id': 804, 'main': 'Clouds', 'description': 'overcast clouds', 'icon': '04d'}]\n",
      "Base:  stations\n",
      "Main:  {'temp': 302.03, 'feels_like': 306.17, 'temp_min': 302.03, 'temp_max': 302.03, 'pressure': 1009, 'humidity': 73, 'sea_level': 1009, 'grnd_level': 1009}\n",
      "Vis:  10000\n",
      "Wind:  {'speed': 6.3, 'deg': 94, 'gust': 7.02}\n",
      "Clouds:  {'all': 91}\n",
      "DT:  1681284058\n",
      "Sys:  {'country': 'FM', 'sunrise': 1681244923, 'sunset': 1681289104}\n",
      "Timezone:  36000\n",
      "ID:  7645768\n",
      "Name:  Sorol\n",
      "Cod:  200\n",
      "Lat/Long:  {'lon': -55.8471, 'lat': -52.958}\n",
      "Weather:  [{'id': 600, 'main': 'Snow', 'description': 'light snow', 'icon': '13n'}]\n",
      "Base:  stations\n",
      "Main:  {'temp': 274.95, 'feels_like': 267.95, 'temp_min': 274.95, 'temp_max': 274.95, 'pressure': 1006, 'humidity': 68, 'sea_level': 1006, 'grnd_level': 1006}\n",
      "Vis:  2138\n",
      "Wind:  {'speed': 14.58, 'deg': 188, 'gust': 16.61}\n",
      "Clouds:  {'all': 100}\n",
      "DT:  1681284059\n",
      "Sys:  {'sunrise': 1681295083, 'sunset': 1681333398}\n",
      "Timezone:  -14400\n",
      "ID:  0\n",
      "Name:  \n",
      "Cod:  200\n",
      "Lat/Long:  {'lon': 131.0728, 'lat': -46.395}\n",
      "Weather:  [{'id': 803, 'main': 'Clouds', 'description': 'broken clouds', 'icon': '04d'}]\n",
      "Base:  stations\n",
      "Main:  {'temp': 284.85, 'feels_like': 284.22, 'temp_min': 284.85, 'temp_max': 284.85, 'pressure': 1001, 'humidity': 82, 'sea_level': 1001, 'grnd_level': 1001}\n",
      "Vis:  10000\n",
      "Wind:  {'speed': 14.23, 'deg': 342, 'gust': 19.81}\n",
      "Clouds:  {'all': 62}\n",
      "DT:  1681284059\n",
      "Sys:  {'sunrise': 1681249643, 'sunset': 1681289133}\n",
      "Timezone:  32400\n",
      "ID:  0\n",
      "Name:  \n",
      "Cod:  200\n",
      "Lat/Long:  {'lon': 154.378, 'lat': 45.4384}\n",
      "Weather:  [{'id': 500, 'main': 'Rain', 'description': 'light rain', 'icon': '10d'}]\n",
      "Base:  stations\n",
      "Main:  {'temp': 276.49, 'feels_like': 270.76, 'temp_min': 276.49, 'temp_max': 276.49, 'pressure': 1012, 'humidity': 100, 'sea_level': 1012, 'grnd_level': 1012}\n",
      "Vis:  65\n",
      "Wind:  {'speed': 9.24, 'deg': 198, 'gust': 16.88}\n",
      "Clouds:  {'all': 100}\n",
      "DT:  1681284059\n",
      "Sys:  {'sunrise': 1681239832, 'sunset': 1681287760}\n",
      "Timezone:  36000\n",
      "ID:  0\n",
      "Name:  \n",
      "Cod:  200\n"
     ]
    },
    {
     "ename": "KeyboardInterrupt",
     "evalue": "",
     "output_type": "error",
     "traceback": [
      "\u001b[0;31m---------------------------------------------------------------------------\u001b[0m",
      "\u001b[0;31mKeyboardInterrupt\u001b[0m                         Traceback (most recent call last)",
      "Cell \u001b[0;32mIn[25], line 6\u001b[0m\n\u001b[1;32m      3\u001b[0m city_weather_data \u001b[39m=\u001b[39m []\n\u001b[1;32m      5\u001b[0m \u001b[39mfor\u001b[39;00m i, city \u001b[39min\u001b[39;00m \u001b[39menumerate\u001b[39m(cities):\n\u001b[0;32m----> 6\u001b[0m     response \u001b[39m=\u001b[39m requests\u001b[39m.\u001b[39;49mget(api_url\u001b[39m.\u001b[39;49mformat(lat\u001b[39m=\u001b[39;49mlats[i], lng\u001b[39m=\u001b[39;49mlngs[i], API_key\u001b[39m=\u001b[39;49mweather_api_key))\n\u001b[1;32m      7\u001b[0m     data \u001b[39m=\u001b[39m response\u001b[39m.\u001b[39mjson()\n\u001b[1;32m      9\u001b[0m     lat_lng_dict \u001b[39m=\u001b[39m data[\u001b[39m'\u001b[39m\u001b[39mcoord\u001b[39m\u001b[39m'\u001b[39m]\n",
      "File \u001b[0;32m~/Documents/Work/Career & Education/berkeley_data-science/module_challenges/python-api-challenge/.venv/lib/python3.9/site-packages/requests/api.py:73\u001b[0m, in \u001b[0;36mget\u001b[0;34m(url, params, **kwargs)\u001b[0m\n\u001b[1;32m     62\u001b[0m \u001b[39mdef\u001b[39;00m \u001b[39mget\u001b[39m(url, params\u001b[39m=\u001b[39m\u001b[39mNone\u001b[39;00m, \u001b[39m*\u001b[39m\u001b[39m*\u001b[39mkwargs):\n\u001b[1;32m     63\u001b[0m \u001b[39m    \u001b[39m\u001b[39mr\u001b[39m\u001b[39m\"\"\"Sends a GET request.\u001b[39;00m\n\u001b[1;32m     64\u001b[0m \n\u001b[1;32m     65\u001b[0m \u001b[39m    :param url: URL for the new :class:`Request` object.\u001b[39;00m\n\u001b[0;32m   (...)\u001b[0m\n\u001b[1;32m     70\u001b[0m \u001b[39m    :rtype: requests.Response\u001b[39;00m\n\u001b[1;32m     71\u001b[0m \u001b[39m    \"\"\"\u001b[39;00m\n\u001b[0;32m---> 73\u001b[0m     \u001b[39mreturn\u001b[39;00m request(\u001b[39m\"\u001b[39;49m\u001b[39mget\u001b[39;49m\u001b[39m\"\u001b[39;49m, url, params\u001b[39m=\u001b[39;49mparams, \u001b[39m*\u001b[39;49m\u001b[39m*\u001b[39;49mkwargs)\n",
      "File \u001b[0;32m~/Documents/Work/Career & Education/berkeley_data-science/module_challenges/python-api-challenge/.venv/lib/python3.9/site-packages/requests/api.py:59\u001b[0m, in \u001b[0;36mrequest\u001b[0;34m(method, url, **kwargs)\u001b[0m\n\u001b[1;32m     55\u001b[0m \u001b[39m# By using the 'with' statement we are sure the session is closed, thus we\u001b[39;00m\n\u001b[1;32m     56\u001b[0m \u001b[39m# avoid leaving sockets open which can trigger a ResourceWarning in some\u001b[39;00m\n\u001b[1;32m     57\u001b[0m \u001b[39m# cases, and look like a memory leak in others.\u001b[39;00m\n\u001b[1;32m     58\u001b[0m \u001b[39mwith\u001b[39;00m sessions\u001b[39m.\u001b[39mSession() \u001b[39mas\u001b[39;00m session:\n\u001b[0;32m---> 59\u001b[0m     \u001b[39mreturn\u001b[39;00m session\u001b[39m.\u001b[39;49mrequest(method\u001b[39m=\u001b[39;49mmethod, url\u001b[39m=\u001b[39;49murl, \u001b[39m*\u001b[39;49m\u001b[39m*\u001b[39;49mkwargs)\n",
      "File \u001b[0;32m~/Documents/Work/Career & Education/berkeley_data-science/module_challenges/python-api-challenge/.venv/lib/python3.9/site-packages/requests/sessions.py:587\u001b[0m, in \u001b[0;36mSession.request\u001b[0;34m(self, method, url, params, data, headers, cookies, files, auth, timeout, allow_redirects, proxies, hooks, stream, verify, cert, json)\u001b[0m\n\u001b[1;32m    582\u001b[0m send_kwargs \u001b[39m=\u001b[39m {\n\u001b[1;32m    583\u001b[0m     \u001b[39m\"\u001b[39m\u001b[39mtimeout\u001b[39m\u001b[39m\"\u001b[39m: timeout,\n\u001b[1;32m    584\u001b[0m     \u001b[39m\"\u001b[39m\u001b[39mallow_redirects\u001b[39m\u001b[39m\"\u001b[39m: allow_redirects,\n\u001b[1;32m    585\u001b[0m }\n\u001b[1;32m    586\u001b[0m send_kwargs\u001b[39m.\u001b[39mupdate(settings)\n\u001b[0;32m--> 587\u001b[0m resp \u001b[39m=\u001b[39m \u001b[39mself\u001b[39;49m\u001b[39m.\u001b[39;49msend(prep, \u001b[39m*\u001b[39;49m\u001b[39m*\u001b[39;49msend_kwargs)\n\u001b[1;32m    589\u001b[0m \u001b[39mreturn\u001b[39;00m resp\n",
      "File \u001b[0;32m~/Documents/Work/Career & Education/berkeley_data-science/module_challenges/python-api-challenge/.venv/lib/python3.9/site-packages/requests/sessions.py:701\u001b[0m, in \u001b[0;36mSession.send\u001b[0;34m(self, request, **kwargs)\u001b[0m\n\u001b[1;32m    698\u001b[0m start \u001b[39m=\u001b[39m preferred_clock()\n\u001b[1;32m    700\u001b[0m \u001b[39m# Send the request\u001b[39;00m\n\u001b[0;32m--> 701\u001b[0m r \u001b[39m=\u001b[39m adapter\u001b[39m.\u001b[39;49msend(request, \u001b[39m*\u001b[39;49m\u001b[39m*\u001b[39;49mkwargs)\n\u001b[1;32m    703\u001b[0m \u001b[39m# Total elapsed time of the request (approximately)\u001b[39;00m\n\u001b[1;32m    704\u001b[0m elapsed \u001b[39m=\u001b[39m preferred_clock() \u001b[39m-\u001b[39m start\n",
      "File \u001b[0;32m~/Documents/Work/Career & Education/berkeley_data-science/module_challenges/python-api-challenge/.venv/lib/python3.9/site-packages/requests/adapters.py:489\u001b[0m, in \u001b[0;36mHTTPAdapter.send\u001b[0;34m(self, request, stream, timeout, verify, cert, proxies)\u001b[0m\n\u001b[1;32m    487\u001b[0m \u001b[39mtry\u001b[39;00m:\n\u001b[1;32m    488\u001b[0m     \u001b[39mif\u001b[39;00m \u001b[39mnot\u001b[39;00m chunked:\n\u001b[0;32m--> 489\u001b[0m         resp \u001b[39m=\u001b[39m conn\u001b[39m.\u001b[39;49murlopen(\n\u001b[1;32m    490\u001b[0m             method\u001b[39m=\u001b[39;49mrequest\u001b[39m.\u001b[39;49mmethod,\n\u001b[1;32m    491\u001b[0m             url\u001b[39m=\u001b[39;49murl,\n\u001b[1;32m    492\u001b[0m             body\u001b[39m=\u001b[39;49mrequest\u001b[39m.\u001b[39;49mbody,\n\u001b[1;32m    493\u001b[0m             headers\u001b[39m=\u001b[39;49mrequest\u001b[39m.\u001b[39;49mheaders,\n\u001b[1;32m    494\u001b[0m             redirect\u001b[39m=\u001b[39;49m\u001b[39mFalse\u001b[39;49;00m,\n\u001b[1;32m    495\u001b[0m             assert_same_host\u001b[39m=\u001b[39;49m\u001b[39mFalse\u001b[39;49;00m,\n\u001b[1;32m    496\u001b[0m             preload_content\u001b[39m=\u001b[39;49m\u001b[39mFalse\u001b[39;49;00m,\n\u001b[1;32m    497\u001b[0m             decode_content\u001b[39m=\u001b[39;49m\u001b[39mFalse\u001b[39;49;00m,\n\u001b[1;32m    498\u001b[0m             retries\u001b[39m=\u001b[39;49m\u001b[39mself\u001b[39;49m\u001b[39m.\u001b[39;49mmax_retries,\n\u001b[1;32m    499\u001b[0m             timeout\u001b[39m=\u001b[39;49mtimeout,\n\u001b[1;32m    500\u001b[0m         )\n\u001b[1;32m    502\u001b[0m     \u001b[39m# Send the request.\u001b[39;00m\n\u001b[1;32m    503\u001b[0m     \u001b[39melse\u001b[39;00m:\n\u001b[1;32m    504\u001b[0m         \u001b[39mif\u001b[39;00m \u001b[39mhasattr\u001b[39m(conn, \u001b[39m\"\u001b[39m\u001b[39mproxy_pool\u001b[39m\u001b[39m\"\u001b[39m):\n",
      "File \u001b[0;32m~/Documents/Work/Career & Education/berkeley_data-science/module_challenges/python-api-challenge/.venv/lib/python3.9/site-packages/urllib3/connectionpool.py:703\u001b[0m, in \u001b[0;36mHTTPConnectionPool.urlopen\u001b[0;34m(self, method, url, body, headers, retries, redirect, assert_same_host, timeout, pool_timeout, release_conn, chunked, body_pos, **response_kw)\u001b[0m\n\u001b[1;32m    700\u001b[0m     \u001b[39mself\u001b[39m\u001b[39m.\u001b[39m_prepare_proxy(conn)\n\u001b[1;32m    702\u001b[0m \u001b[39m# Make the request on the httplib connection object.\u001b[39;00m\n\u001b[0;32m--> 703\u001b[0m httplib_response \u001b[39m=\u001b[39m \u001b[39mself\u001b[39;49m\u001b[39m.\u001b[39;49m_make_request(\n\u001b[1;32m    704\u001b[0m     conn,\n\u001b[1;32m    705\u001b[0m     method,\n\u001b[1;32m    706\u001b[0m     url,\n\u001b[1;32m    707\u001b[0m     timeout\u001b[39m=\u001b[39;49mtimeout_obj,\n\u001b[1;32m    708\u001b[0m     body\u001b[39m=\u001b[39;49mbody,\n\u001b[1;32m    709\u001b[0m     headers\u001b[39m=\u001b[39;49mheaders,\n\u001b[1;32m    710\u001b[0m     chunked\u001b[39m=\u001b[39;49mchunked,\n\u001b[1;32m    711\u001b[0m )\n\u001b[1;32m    713\u001b[0m \u001b[39m# If we're going to release the connection in ``finally:``, then\u001b[39;00m\n\u001b[1;32m    714\u001b[0m \u001b[39m# the response doesn't need to know about the connection. Otherwise\u001b[39;00m\n\u001b[1;32m    715\u001b[0m \u001b[39m# it will also try to release it and we'll have a double-release\u001b[39;00m\n\u001b[1;32m    716\u001b[0m \u001b[39m# mess.\u001b[39;00m\n\u001b[1;32m    717\u001b[0m response_conn \u001b[39m=\u001b[39m conn \u001b[39mif\u001b[39;00m \u001b[39mnot\u001b[39;00m release_conn \u001b[39melse\u001b[39;00m \u001b[39mNone\u001b[39;00m\n",
      "File \u001b[0;32m~/Documents/Work/Career & Education/berkeley_data-science/module_challenges/python-api-challenge/.venv/lib/python3.9/site-packages/urllib3/connectionpool.py:386\u001b[0m, in \u001b[0;36mHTTPConnectionPool._make_request\u001b[0;34m(self, conn, method, url, timeout, chunked, **httplib_request_kw)\u001b[0m\n\u001b[1;32m    384\u001b[0m \u001b[39m# Trigger any extra validation we need to do.\u001b[39;00m\n\u001b[1;32m    385\u001b[0m \u001b[39mtry\u001b[39;00m:\n\u001b[0;32m--> 386\u001b[0m     \u001b[39mself\u001b[39;49m\u001b[39m.\u001b[39;49m_validate_conn(conn)\n\u001b[1;32m    387\u001b[0m \u001b[39mexcept\u001b[39;00m (SocketTimeout, BaseSSLError) \u001b[39mas\u001b[39;00m e:\n\u001b[1;32m    388\u001b[0m     \u001b[39m# Py2 raises this as a BaseSSLError, Py3 raises it as socket timeout.\u001b[39;00m\n\u001b[1;32m    389\u001b[0m     \u001b[39mself\u001b[39m\u001b[39m.\u001b[39m_raise_timeout(err\u001b[39m=\u001b[39me, url\u001b[39m=\u001b[39murl, timeout_value\u001b[39m=\u001b[39mconn\u001b[39m.\u001b[39mtimeout)\n",
      "File \u001b[0;32m~/Documents/Work/Career & Education/berkeley_data-science/module_challenges/python-api-challenge/.venv/lib/python3.9/site-packages/urllib3/connectionpool.py:1042\u001b[0m, in \u001b[0;36mHTTPSConnectionPool._validate_conn\u001b[0;34m(self, conn)\u001b[0m\n\u001b[1;32m   1040\u001b[0m \u001b[39m# Force connect early to allow us to validate the connection.\u001b[39;00m\n\u001b[1;32m   1041\u001b[0m \u001b[39mif\u001b[39;00m \u001b[39mnot\u001b[39;00m \u001b[39mgetattr\u001b[39m(conn, \u001b[39m\"\u001b[39m\u001b[39msock\u001b[39m\u001b[39m\"\u001b[39m, \u001b[39mNone\u001b[39;00m):  \u001b[39m# AppEngine might not have  `.sock`\u001b[39;00m\n\u001b[0;32m-> 1042\u001b[0m     conn\u001b[39m.\u001b[39;49mconnect()\n\u001b[1;32m   1044\u001b[0m \u001b[39mif\u001b[39;00m \u001b[39mnot\u001b[39;00m conn\u001b[39m.\u001b[39mis_verified:\n\u001b[1;32m   1045\u001b[0m     warnings\u001b[39m.\u001b[39mwarn(\n\u001b[1;32m   1046\u001b[0m         (\n\u001b[1;32m   1047\u001b[0m             \u001b[39m\"\u001b[39m\u001b[39mUnverified HTTPS request is being made to host \u001b[39m\u001b[39m'\u001b[39m\u001b[39m%s\u001b[39;00m\u001b[39m'\u001b[39m\u001b[39m. \u001b[39m\u001b[39m\"\u001b[39m\n\u001b[0;32m   (...)\u001b[0m\n\u001b[1;32m   1052\u001b[0m         InsecureRequestWarning,\n\u001b[1;32m   1053\u001b[0m     )\n",
      "File \u001b[0;32m~/Documents/Work/Career & Education/berkeley_data-science/module_challenges/python-api-challenge/.venv/lib/python3.9/site-packages/urllib3/connection.py:419\u001b[0m, in \u001b[0;36mHTTPSConnection.connect\u001b[0;34m(self)\u001b[0m\n\u001b[1;32m    410\u001b[0m \u001b[39mif\u001b[39;00m (\n\u001b[1;32m    411\u001b[0m     \u001b[39mnot\u001b[39;00m \u001b[39mself\u001b[39m\u001b[39m.\u001b[39mca_certs\n\u001b[1;32m    412\u001b[0m     \u001b[39mand\u001b[39;00m \u001b[39mnot\u001b[39;00m \u001b[39mself\u001b[39m\u001b[39m.\u001b[39mca_cert_dir\n\u001b[0;32m   (...)\u001b[0m\n\u001b[1;32m    415\u001b[0m     \u001b[39mand\u001b[39;00m \u001b[39mhasattr\u001b[39m(context, \u001b[39m\"\u001b[39m\u001b[39mload_default_certs\u001b[39m\u001b[39m\"\u001b[39m)\n\u001b[1;32m    416\u001b[0m ):\n\u001b[1;32m    417\u001b[0m     context\u001b[39m.\u001b[39mload_default_certs()\n\u001b[0;32m--> 419\u001b[0m \u001b[39mself\u001b[39m\u001b[39m.\u001b[39msock \u001b[39m=\u001b[39m ssl_wrap_socket(\n\u001b[1;32m    420\u001b[0m     sock\u001b[39m=\u001b[39;49mconn,\n\u001b[1;32m    421\u001b[0m     keyfile\u001b[39m=\u001b[39;49m\u001b[39mself\u001b[39;49m\u001b[39m.\u001b[39;49mkey_file,\n\u001b[1;32m    422\u001b[0m     certfile\u001b[39m=\u001b[39;49m\u001b[39mself\u001b[39;49m\u001b[39m.\u001b[39;49mcert_file,\n\u001b[1;32m    423\u001b[0m     key_password\u001b[39m=\u001b[39;49m\u001b[39mself\u001b[39;49m\u001b[39m.\u001b[39;49mkey_password,\n\u001b[1;32m    424\u001b[0m     ca_certs\u001b[39m=\u001b[39;49m\u001b[39mself\u001b[39;49m\u001b[39m.\u001b[39;49mca_certs,\n\u001b[1;32m    425\u001b[0m     ca_cert_dir\u001b[39m=\u001b[39;49m\u001b[39mself\u001b[39;49m\u001b[39m.\u001b[39;49mca_cert_dir,\n\u001b[1;32m    426\u001b[0m     ca_cert_data\u001b[39m=\u001b[39;49m\u001b[39mself\u001b[39;49m\u001b[39m.\u001b[39;49mca_cert_data,\n\u001b[1;32m    427\u001b[0m     server_hostname\u001b[39m=\u001b[39;49mserver_hostname,\n\u001b[1;32m    428\u001b[0m     ssl_context\u001b[39m=\u001b[39;49mcontext,\n\u001b[1;32m    429\u001b[0m     tls_in_tls\u001b[39m=\u001b[39;49mtls_in_tls,\n\u001b[1;32m    430\u001b[0m )\n\u001b[1;32m    432\u001b[0m \u001b[39m# If we're using all defaults and the connection\u001b[39;00m\n\u001b[1;32m    433\u001b[0m \u001b[39m# is TLSv1 or TLSv1.1 we throw a DeprecationWarning\u001b[39;00m\n\u001b[1;32m    434\u001b[0m \u001b[39m# for the host.\u001b[39;00m\n\u001b[1;32m    435\u001b[0m \u001b[39mif\u001b[39;00m (\n\u001b[1;32m    436\u001b[0m     default_ssl_context\n\u001b[1;32m    437\u001b[0m     \u001b[39mand\u001b[39;00m \u001b[39mself\u001b[39m\u001b[39m.\u001b[39mssl_version \u001b[39mis\u001b[39;00m \u001b[39mNone\u001b[39;00m\n\u001b[1;32m    438\u001b[0m     \u001b[39mand\u001b[39;00m \u001b[39mhasattr\u001b[39m(\u001b[39mself\u001b[39m\u001b[39m.\u001b[39msock, \u001b[39m\"\u001b[39m\u001b[39mversion\u001b[39m\u001b[39m\"\u001b[39m)\n\u001b[1;32m    439\u001b[0m     \u001b[39mand\u001b[39;00m \u001b[39mself\u001b[39m\u001b[39m.\u001b[39msock\u001b[39m.\u001b[39mversion() \u001b[39min\u001b[39;00m {\u001b[39m\"\u001b[39m\u001b[39mTLSv1\u001b[39m\u001b[39m\"\u001b[39m, \u001b[39m\"\u001b[39m\u001b[39mTLSv1.1\u001b[39m\u001b[39m\"\u001b[39m}\n\u001b[1;32m    440\u001b[0m ):\n",
      "File \u001b[0;32m~/Documents/Work/Career & Education/berkeley_data-science/module_challenges/python-api-challenge/.venv/lib/python3.9/site-packages/urllib3/util/ssl_.py:449\u001b[0m, in \u001b[0;36mssl_wrap_socket\u001b[0;34m(sock, keyfile, certfile, cert_reqs, ca_certs, server_hostname, ssl_version, ciphers, ssl_context, ca_cert_dir, key_password, ca_cert_data, tls_in_tls)\u001b[0m\n\u001b[1;32m    437\u001b[0m     warnings\u001b[39m.\u001b[39mwarn(\n\u001b[1;32m    438\u001b[0m         \u001b[39m\"\u001b[39m\u001b[39mAn HTTPS request has been made, but the SNI (Server Name \u001b[39m\u001b[39m\"\u001b[39m\n\u001b[1;32m    439\u001b[0m         \u001b[39m\"\u001b[39m\u001b[39mIndication) extension to TLS is not available on this platform. \u001b[39m\u001b[39m\"\u001b[39m\n\u001b[0;32m   (...)\u001b[0m\n\u001b[1;32m    445\u001b[0m         SNIMissingWarning,\n\u001b[1;32m    446\u001b[0m     )\n\u001b[1;32m    448\u001b[0m \u001b[39mif\u001b[39;00m send_sni:\n\u001b[0;32m--> 449\u001b[0m     ssl_sock \u001b[39m=\u001b[39m _ssl_wrap_socket_impl(\n\u001b[1;32m    450\u001b[0m         sock, context, tls_in_tls, server_hostname\u001b[39m=\u001b[39;49mserver_hostname\n\u001b[1;32m    451\u001b[0m     )\n\u001b[1;32m    452\u001b[0m \u001b[39melse\u001b[39;00m:\n\u001b[1;32m    453\u001b[0m     ssl_sock \u001b[39m=\u001b[39m _ssl_wrap_socket_impl(sock, context, tls_in_tls)\n",
      "File \u001b[0;32m~/Documents/Work/Career & Education/berkeley_data-science/module_challenges/python-api-challenge/.venv/lib/python3.9/site-packages/urllib3/util/ssl_.py:493\u001b[0m, in \u001b[0;36m_ssl_wrap_socket_impl\u001b[0;34m(sock, ssl_context, tls_in_tls, server_hostname)\u001b[0m\n\u001b[1;32m    490\u001b[0m     \u001b[39mreturn\u001b[39;00m SSLTransport(sock, ssl_context, server_hostname)\n\u001b[1;32m    492\u001b[0m \u001b[39mif\u001b[39;00m server_hostname:\n\u001b[0;32m--> 493\u001b[0m     \u001b[39mreturn\u001b[39;00m ssl_context\u001b[39m.\u001b[39;49mwrap_socket(sock, server_hostname\u001b[39m=\u001b[39;49mserver_hostname)\n\u001b[1;32m    494\u001b[0m \u001b[39melse\u001b[39;00m:\n\u001b[1;32m    495\u001b[0m     \u001b[39mreturn\u001b[39;00m ssl_context\u001b[39m.\u001b[39mwrap_socket(sock)\n",
      "File \u001b[0;32m/Library/Developer/CommandLineTools/Library/Frameworks/Python3.framework/Versions/3.9/lib/python3.9/ssl.py:500\u001b[0m, in \u001b[0;36mSSLContext.wrap_socket\u001b[0;34m(self, sock, server_side, do_handshake_on_connect, suppress_ragged_eofs, server_hostname, session)\u001b[0m\n\u001b[1;32m    494\u001b[0m \u001b[39mdef\u001b[39;00m \u001b[39mwrap_socket\u001b[39m(\u001b[39mself\u001b[39m, sock, server_side\u001b[39m=\u001b[39m\u001b[39mFalse\u001b[39;00m,\n\u001b[1;32m    495\u001b[0m                 do_handshake_on_connect\u001b[39m=\u001b[39m\u001b[39mTrue\u001b[39;00m,\n\u001b[1;32m    496\u001b[0m                 suppress_ragged_eofs\u001b[39m=\u001b[39m\u001b[39mTrue\u001b[39;00m,\n\u001b[1;32m    497\u001b[0m                 server_hostname\u001b[39m=\u001b[39m\u001b[39mNone\u001b[39;00m, session\u001b[39m=\u001b[39m\u001b[39mNone\u001b[39;00m):\n\u001b[1;32m    498\u001b[0m     \u001b[39m# SSLSocket class handles server_hostname encoding before it calls\u001b[39;00m\n\u001b[1;32m    499\u001b[0m     \u001b[39m# ctx._wrap_socket()\u001b[39;00m\n\u001b[0;32m--> 500\u001b[0m     \u001b[39mreturn\u001b[39;00m \u001b[39mself\u001b[39;49m\u001b[39m.\u001b[39;49msslsocket_class\u001b[39m.\u001b[39;49m_create(\n\u001b[1;32m    501\u001b[0m         sock\u001b[39m=\u001b[39;49msock,\n\u001b[1;32m    502\u001b[0m         server_side\u001b[39m=\u001b[39;49mserver_side,\n\u001b[1;32m    503\u001b[0m         do_handshake_on_connect\u001b[39m=\u001b[39;49mdo_handshake_on_connect,\n\u001b[1;32m    504\u001b[0m         suppress_ragged_eofs\u001b[39m=\u001b[39;49msuppress_ragged_eofs,\n\u001b[1;32m    505\u001b[0m         server_hostname\u001b[39m=\u001b[39;49mserver_hostname,\n\u001b[1;32m    506\u001b[0m         context\u001b[39m=\u001b[39;49m\u001b[39mself\u001b[39;49m,\n\u001b[1;32m    507\u001b[0m         session\u001b[39m=\u001b[39;49msession\n\u001b[1;32m    508\u001b[0m     )\n",
      "File \u001b[0;32m/Library/Developer/CommandLineTools/Library/Frameworks/Python3.framework/Versions/3.9/lib/python3.9/ssl.py:1040\u001b[0m, in \u001b[0;36mSSLSocket._create\u001b[0;34m(cls, sock, server_side, do_handshake_on_connect, suppress_ragged_eofs, server_hostname, context, session)\u001b[0m\n\u001b[1;32m   1037\u001b[0m         \u001b[39mif\u001b[39;00m timeout \u001b[39m==\u001b[39m \u001b[39m0.0\u001b[39m:\n\u001b[1;32m   1038\u001b[0m             \u001b[39m# non-blocking\u001b[39;00m\n\u001b[1;32m   1039\u001b[0m             \u001b[39mraise\u001b[39;00m \u001b[39mValueError\u001b[39;00m(\u001b[39m\"\u001b[39m\u001b[39mdo_handshake_on_connect should not be specified for non-blocking sockets\u001b[39m\u001b[39m\"\u001b[39m)\n\u001b[0;32m-> 1040\u001b[0m         \u001b[39mself\u001b[39;49m\u001b[39m.\u001b[39;49mdo_handshake()\n\u001b[1;32m   1041\u001b[0m \u001b[39mexcept\u001b[39;00m (\u001b[39mOSError\u001b[39;00m, \u001b[39mValueError\u001b[39;00m):\n\u001b[1;32m   1042\u001b[0m     \u001b[39mself\u001b[39m\u001b[39m.\u001b[39mclose()\n",
      "File \u001b[0;32m/Library/Developer/CommandLineTools/Library/Frameworks/Python3.framework/Versions/3.9/lib/python3.9/ssl.py:1309\u001b[0m, in \u001b[0;36mSSLSocket.do_handshake\u001b[0;34m(self, block)\u001b[0m\n\u001b[1;32m   1307\u001b[0m     \u001b[39mif\u001b[39;00m timeout \u001b[39m==\u001b[39m \u001b[39m0.0\u001b[39m \u001b[39mand\u001b[39;00m block:\n\u001b[1;32m   1308\u001b[0m         \u001b[39mself\u001b[39m\u001b[39m.\u001b[39msettimeout(\u001b[39mNone\u001b[39;00m)\n\u001b[0;32m-> 1309\u001b[0m     \u001b[39mself\u001b[39;49m\u001b[39m.\u001b[39;49m_sslobj\u001b[39m.\u001b[39;49mdo_handshake()\n\u001b[1;32m   1310\u001b[0m \u001b[39mfinally\u001b[39;00m:\n\u001b[1;32m   1311\u001b[0m     \u001b[39mself\u001b[39m\u001b[39m.\u001b[39msettimeout(timeout)\n",
      "\u001b[0;31mKeyboardInterrupt\u001b[0m: "
     ]
    }
   ],
   "source": [
    "# retrieve weather attributes for relevant cities\n",
    "api_url = 'https://api.openweathermap.org/data/2.5/weather?lat={lat}&lon={lng}&appid={API_key}'\n",
    "city_weather_data = []\n",
    "\n",
    "for i, city in enumerate(cities):\n",
    "    response = requests.get(api_url.format(lat=lats[i], lng=lngs[i], API_key=weather_api_key))\n",
    "    data = response.json()\n",
    "    \n",
    "    lat_lng_dict = data['coord']\n",
    "    print('Lat/Long: ', lat_lng_dict)\n",
    "    weather_dict = data['weather']\n",
    "    print('Weather: ', weather_dict)\n",
    "    base_dict = data['base']\n",
    "    print('Base: ', base_dict)\n",
    "    main_dict = data['main']\n",
    "    print('Main: ', main_dict)\n",
    "    vis_dict = data['visibility']\n",
    "    print('Vis: ', vis_dict)\n",
    "    wind_dict = data['wind']\n",
    "    print('Wind: ', wind_dict)\n",
    "    clouds_dict = data['clouds']\n",
    "    print('Clouds: ', clouds_dict)\n",
    "    dt_dict = data['dt']\n",
    "    print('DT: ', dt_dict)\n",
    "    sys_dict = data['sys']\n",
    "    print('Sys: ', sys_dict)\n",
    "    timezone_dict = data['timezone']\n",
    "    print('Timezone: ', timezone_dict)\n",
    "    id_dict = data['id']\n",
    "    print('ID: ', id_dict)\n",
    "    name_dict = data['name']\n",
    "    print('Name: ', name_dict)\n",
    "    cod_dict = data['cod']\n",
    "    print('Cod: ', cod_dict)"
   ]
  },
  {
   "attachments": {},
   "cell_type": "markdown",
   "metadata": {},
   "source": [
    "#### Latitude vs. Temperature"
   ]
  },
  {
   "attachments": {},
   "cell_type": "markdown",
   "metadata": {},
   "source": [
    "#### Latitude vs. Humidity"
   ]
  },
  {
   "attachments": {},
   "cell_type": "markdown",
   "metadata": {},
   "source": [
    "#### Latitude vs. Cloudiness"
   ]
  },
  {
   "attachments": {},
   "cell_type": "markdown",
   "metadata": {},
   "source": [
    "#### Latitude vs. Wind Speed"
   ]
  },
  {
   "attachments": {},
   "cell_type": "markdown",
   "metadata": {},
   "source": [
    "### Apply Linear Regression to Each Relationship"
   ]
  }
 ],
 "metadata": {
  "kernelspec": {
   "display_name": ".venv",
   "language": "python",
   "name": "python3"
  },
  "language_info": {
   "codemirror_mode": {
    "name": "ipython",
    "version": 3
   },
   "file_extension": ".py",
   "mimetype": "text/x-python",
   "name": "python",
   "nbconvert_exporter": "python",
   "pygments_lexer": "ipython3",
   "version": "3.9.6"
  },
  "orig_nbformat": 4
 },
 "nbformat": 4,
 "nbformat_minor": 2
}
